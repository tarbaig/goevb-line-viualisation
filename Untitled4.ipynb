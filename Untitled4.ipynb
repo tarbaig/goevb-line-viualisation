{
 "cells": [
  {
   "cell_type": "code",
   "execution_count": 52,
   "metadata": {},
   "outputs": [],
   "source": [
    "from pathlib import Path \n",
    "import ipyleaflet\n",
    "import requests\n",
    "import polyline\n",
    "import json\n",
    "import random\n",
    "from ipywebrtc import WidgetStream, ImageRecorder\n",
    "from ipywidgets import Layout\n",
    "from collections import OrderedDict\n",
    "from shapely.geometry import shape"
   ]
  },
  {
   "cell_type": "code",
   "execution_count": 25,
   "metadata": {},
   "outputs": [],
   "source": [
    "lay = Layout(width='1024px', height='768px')"
   ]
  },
  {
   "cell_type": "code",
   "execution_count": 2,
   "metadata": {},
   "outputs": [],
   "source": [
    "def transform_l(l):\n",
    "    return \";\".join(\n",
    "        map(\n",
    "            lambda x: ','.join(\n",
    "                map(\n",
    "                    str,\n",
    "                    x\n",
    "                    )\n",
    "            ),\n",
    "            l\n",
    "        )\n",
    "    )"
   ]
  },
  {
   "cell_type": "code",
   "execution_count": 3,
   "metadata": {},
   "outputs": [],
   "source": [
    "def partial_polyline(p1, p2):\n",
    "    wq = (\n",
    "        \"http://router.project-osrm.org/route/v1/driving/\"\n",
    "        + \"{lon1:.12f},{lat1:.12f};{lon2:.12f},{lat2:.12f}?alternatives=false&steps=false&overview=full\".format(\n",
    "            lat1=p1[0], lon1=p1[1], lat2=p2[0], lon2=p2[1]\n",
    "        )\n",
    "    )\n",
    "    res = requests.get(wq, timeout=12.2)\n",
    "    wp = polyline.decode(res.json()[\"routes\"][0][\"geometry\"], precision=5,geojson=True)\n",
    "    return wp"
   ]
  },
  {
   "cell_type": "code",
   "execution_count": 4,
   "metadata": {},
   "outputs": [],
   "source": [
    "def get_poyline_for(l):\n",
    "    osrm_url = \"http://router.project-osrm.org/route/v1/driving/\"\n",
    "    osrm_option = \"?alternatives=false&steps=false&overview=full\"\n",
    "    wp = []\n",
    "    for p1, p2 in zip(l, l[1:]):\n",
    "        wp.extend(partial_polyline(p1, p2))\n",
    "    return wp"
   ]
  },
  {
   "cell_type": "code",
   "execution_count": 5,
   "metadata": {},
   "outputs": [],
   "source": [
    "def treat_line_string(ls):\n",
    "    return get_poyline_for(ls)"
   ]
  },
  {
   "cell_type": "code",
   "execution_count": 6,
   "metadata": {},
   "outputs": [],
   "source": [
    "def treat_multi_line_string(mls):\n",
    "    retv = []\n",
    "    for l in mls:\n",
    "        retv.append(get_poyline_for(l))\n",
    "        return retv"
   ]
  },
  {
   "cell_type": "code",
   "execution_count": 7,
   "metadata": {},
   "outputs": [],
   "source": [
    "def random_color(feature):\n",
    "    return {\n",
    "        'color': random.choice(['maroon','red','sienna','peru','gold' 'yellow', 'teal', 'steelblue','royalblue'])\n",
    "        }"
   ]
  },
  {
   "cell_type": "code",
   "execution_count": 44,
   "metadata": {},
   "outputs": [],
   "source": [
    "def nominatim_query(query,json=False):\n",
    "    params = OrderedDict()\n",
    "    params['format'] = 'json'\n",
    "    params['limit'] = 1\n",
    "    params['dedupe'] = 0\n",
    "    params['polygon_geojson'] = 1\n",
    "    params['q'] = query\n",
    "\n",
    "    url = 'https://nominatim.openstreetmap.org/search'\n",
    "    prepared_url = requests.Request('GET', url, params=params).prepare().url\n",
    "\n",
    "    response = requests.get(url, params=params)\n",
    "    response_json = response.json()\n",
    "    if json:\n",
    "        return response_json[0]['geojson']\n",
    "    else:\n",
    "        return shape(response_json[0]['geojson'])"
   ]
  },
  {
   "cell_type": "code",
   "execution_count": 39,
   "metadata": {},
   "outputs": [],
   "source": [
    "with open(\"./gövb_network3.json\") as f:\n",
    "    lines = json.load(f)"
   ]
  },
  {
   "cell_type": "code",
   "execution_count": 40,
   "metadata": {},
   "outputs": [],
   "source": [
    "mm = ipyleaflet.Map(center=(51.55839, 9.95215),layout=lay)"
   ]
  },
  {
   "cell_type": "code",
   "execution_count": 41,
   "metadata": {},
   "outputs": [],
   "source": [
    "for f in lines['features']:\n",
    "    gg= ipyleaflet.GeoJSON(data=f,visible=True,style_callback=random_color,name=f['properties']['route_short_name'])\n",
    "    mm.add_layer(gg)"
   ]
  },
  {
   "cell_type": "code",
   "execution_count": 42,
   "metadata": {},
   "outputs": [],
   "source": [
    "control = ipyleaflet.LayersControl(position='topright')\n",
    "mm.add_control(control)"
   ]
  },
  {
   "cell_type": "code",
   "execution_count": 43,
   "metadata": {
    "scrolled": false
   },
   "outputs": [
    {
     "data": {
      "application/vnd.jupyter.widget-view+json": {
       "model_id": "bf456b5ff03b450e97045e271048caee",
       "version_major": 2,
       "version_minor": 0
      },
      "text/plain": [
       "Map(center=[51.55839, 9.95215], controls=(ZoomControl(options=['position', 'zoom_in_text', 'zoom_in_title', 'z…"
      ]
     },
     "metadata": {},
     "output_type": "display_data"
    }
   ],
   "source": [
    "mm"
   ]
  },
  {
   "cell_type": "code",
   "execution_count": 59,
   "metadata": {},
   "outputs": [],
   "source": [
    "nb = nominatim_query('Göttingen, Nikolausberg',json=True)"
   ]
  },
  {
   "cell_type": "code",
   "execution_count": 60,
   "metadata": {},
   "outputs": [],
   "source": [
    "gö = nominatim_query('Göttingen',json=True)"
   ]
  },
  {
   "cell_type": "code",
   "execution_count": 57,
   "metadata": {},
   "outputs": [],
   "source": [
    "mm.add_layer(ipyleaflet.GeoJSON(data=nb,visible=True,name='Nikolausberg'))"
   ]
  },
  {
   "cell_type": "code",
   "execution_count": 61,
   "metadata": {},
   "outputs": [],
   "source": [
    "mm.add_layer(ipyleaflet.GeoJSON(data=gö,visible=True,name='Göttingen'))"
   ]
  }
 ],
 "metadata": {
  "kernelspec": {
   "display_name": "Python 3",
   "language": "python",
   "name": "python3"
  },
  "language_info": {
   "codemirror_mode": {
    "name": "ipython",
    "version": 3
   },
   "file_extension": ".py",
   "mimetype": "text/x-python",
   "name": "python",
   "nbconvert_exporter": "python",
   "pygments_lexer": "ipython3",
   "version": "3.7.3"
  }
 },
 "nbformat": 4,
 "nbformat_minor": 5
}
