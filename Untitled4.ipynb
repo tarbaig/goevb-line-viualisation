{
 "cells": [
  {
   "cell_type": "code",
   "execution_count": 52,
   "id": "9cf22731",
   "metadata": {},
   "outputs": [],
   "source": [
    "from pathlib import Path \n",
    "import ipyleaflet\n",
    "import requests\n",
    "import polyline\n",
    "import json\n",
    "import random\n",
    "from ipywebrtc import WidgetStream, ImageRecorder\n",
    "from ipywidgets import Layout\n",
    "from collections import OrderedDict\n",
    "from shapely.geometry import shape"
   ]
  },
  {
   "cell_type": "code",
   "execution_count": 25,
   "id": "4cb9ab32",
   "metadata": {},
   "outputs": [],
   "source": [
    "lay = Layout(width='1024px', height='768px')"
   ]
  },
  {
   "cell_type": "code",
   "execution_count": 2,
   "id": "294a5713",
   "metadata": {},
   "outputs": [],
   "source": [
    "def transform_l(l):\n",
    "    return \";\".join(\n",
    "        map(\n",
    "            lambda x: ','.join(\n",
    "                map(\n",
    "                    str,\n",
    "                    x\n",
    "                    )\n",
    "            ),\n",
    "            l\n",
    "        )\n",
    "    )"
   ]
  },
  {
   "cell_type": "code",
   "execution_count": 3,
   "id": "8ce1e6c1",
   "metadata": {},
   "outputs": [],
   "source": [
    "def partial_polyline(p1, p2):\n",
    "    wq = (\n",
    "        \"http://router.project-osrm.org/route/v1/driving/\"\n",
    "        + \"{lon1:.12f},{lat1:.12f};{lon2:.12f},{lat2:.12f}?alternatives=false&steps=false&overview=full\".format(\n",
    "            lat1=p1[0], lon1=p1[1], lat2=p2[0], lon2=p2[1]\n",
    "        )\n",
    "    )\n",
    "    res = requests.get(wq, timeout=12.2)\n",
    "    wp = polyline.decode(res.json()[\"routes\"][0][\"geometry\"], precision=5,geojson=True)\n",
    "    return wp"
   ]
  },
  {
   "cell_type": "code",
   "execution_count": 4,
   "id": "5413a6ef",
   "metadata": {},
   "outputs": [],
   "source": [
    "def get_poyline_for(l):\n",
    "    osrm_url = \"http://router.project-osrm.org/route/v1/driving/\"\n",
    "    osrm_option = \"?alternatives=false&steps=false&overview=full\"\n",
    "    wp = []\n",
    "    for p1, p2 in zip(l, l[1:]):\n",
    "        wp.extend(partial_polyline(p1, p2))\n",
    "    return wp"
   ]
  },
  {
   "cell_type": "code",
   "execution_count": 5,
   "id": "eee51dbb",
   "metadata": {},
   "outputs": [],
   "source": [
    "def treat_line_string(ls):\n",
    "    return get_poyline_for(ls)"
   ]
  },
  {
   "cell_type": "code",
   "execution_count": 6,
   "id": "ed6c1b41",
   "metadata": {},
   "outputs": [],
   "source": [
    "def treat_multi_line_string(mls):\n",
    "    retv = []\n",
    "    for l in mls:\n",
    "        retv.append(get_poyline_for(l))\n",
    "        return retv"
   ]
  },
  {
   "cell_type": "code",
   "execution_count": 7,
   "id": "dbca80b4",
   "metadata": {},
   "outputs": [],
   "source": [
    "def random_color(feature):\n",
    "    return {\n",
    "        'color': random.choice(['maroon','red','sienna','peru','gold' 'yellow', 'teal', 'steelblue','royalblue'])\n",
    "        }"
   ]
  },
  {
   "cell_type": "code",
   "execution_count": 44,
   "id": "6c2cc30a",
   "metadata": {},
   "outputs": [],
   "source": [
    "def nominatim_query(query,json=False):\n",
    "    params = OrderedDict()\n",
    "    params['format'] = 'json'\n",
    "    params['limit'] = 1\n",
    "    params['dedupe'] = 0\n",
    "    params['polygon_geojson'] = 1\n",
    "    params['q'] = query\n",
    "\n",
    "    url = 'https://nominatim.openstreetmap.org/search'\n",
    "    prepared_url = requests.Request('GET', url, params=params).prepare().url\n",
    "\n",
    "    response = requests.get(url, params=params)\n",
    "    response_json = response.json()\n",
    "    if json:\n",
    "        return response_json[0]['geojson']\n",
    "    else:\n",
    "        return shape(response_json[0]['geojson'])"
   ]
  },
  {
   "cell_type": "code",
   "execution_count": 39,
   "id": "71073513",
   "metadata": {},
   "outputs": [],
   "source": [
    "with open(\"./gövb_network3.json\") as f:\n",
    "    lines = json.load(f)"
   ]
  },
  {
   "cell_type": "code",
   "execution_count": 40,
   "id": "56c954e3",
   "metadata": {},
   "outputs": [],
   "source": [
    "mm = ipyleaflet.Map(center=(51.55839, 9.95215),layout=lay)"
   ]
  },
  {
   "cell_type": "code",
   "execution_count": 41,
   "id": "0a845e6a",
   "metadata": {},
   "outputs": [],
   "source": [
    "for f in lines['features']:\n",
    "    gg= ipyleaflet.GeoJSON(data=f,visible=True,style_callback=random_color,name=f['properties']['route_short_name'])\n",
    "    mm.add_layer(gg)"
   ]
  },
  {
   "cell_type": "code",
   "execution_count": 42,
   "id": "9a853069",
   "metadata": {},
   "outputs": [],
   "source": [
    "control = ipyleaflet.LayersControl(position='topright')\n",
    "mm.add_control(control)"
   ]
  },
  {
   "cell_type": "code",
   "execution_count": 43,
   "id": "0df84c7a",
   "metadata": {
    "scrolled": false
   },
   "outputs": [
    {
     "data": {
      "application/vnd.jupyter.widget-view+json": {
       "model_id": "bf456b5ff03b450e97045e271048caee",
       "version_major": 2,
       "version_minor": 0
      },
      "text/plain": [
       "Map(center=[51.55839, 9.95215], controls=(ZoomControl(options=['position', 'zoom_in_text', 'zoom_in_title', 'z…"
      ]
     },
     "metadata": {},
     "output_type": "display_data"
    }
   ],
   "source": [
    "mm"
   ]
  },
  {
   "cell_type": "code",
   "execution_count": 59,
   "id": "3a5af532",
   "metadata": {},
   "outputs": [],
   "source": [
    "nb = nominatim_query('Göttingen, Nikolausberg',json=True)"
   ]
  },
  {
   "cell_type": "code",
   "execution_count": 60,
   "id": "f6d570a4",
   "metadata": {},
   "outputs": [],
   "source": [
    "gö = nominatim_query('Göttingen',json=True)"
   ]
  },
  {
   "cell_type": "code",
   "execution_count": 57,
   "id": "080749f2",
   "metadata": {},
   "outputs": [],
   "source": [
    "mm.add_layer(ipyleaflet.GeoJSON(data=nb,visible=True,name='Nikolausberg'))"
   ]
  },
  {
   "cell_type": "code",
   "execution_count": 61,
   "id": "0d7c0a8b",
   "metadata": {},
   "outputs": [],
   "source": [
    "mm.add_layer(ipyleaflet.GeoJSON(data=gö,visible=True,name='Göttingen'))"
   ]
  },
  {
   "cell_type": "code",
   "execution_count": 58,
   "id": "c615beb5",
   "metadata": {},
   "outputs": [],
   "source": [
    "widget_stream = WidgetStream(widget=mm, max_fps=1)\n"
   ]
  },
  {
   "cell_type": "code",
   "execution_count": 62,
   "id": "5af4fdb0",
   "metadata": {},
   "outputs": [
    {
     "data": {
      "application/vnd.jupyter.widget-view+json": {
       "model_id": "3786be8cb9684994adc2f6192d3f1853",
       "version_major": 2,
       "version_minor": 0
      },
      "text/plain": [
       "WidgetStream(max_fps=1, widget=Map(bottom=348836.0, center=[51.55572834577052, 9.95464324951172], controls=(Zo…"
      ]
     },
     "metadata": {},
     "output_type": "display_data"
    }
   ],
   "source": [
    "widget_stream"
   ]
  },
  {
   "cell_type": "code",
   "execution_count": 63,
   "id": "45a9e14f",
   "metadata": {},
   "outputs": [],
   "source": [
    "image_recorder = ImageRecorder(stream=widget_stream)"
   ]
  },
  {
   "cell_type": "code",
   "execution_count": 64,
   "id": "0f772706",
   "metadata": {},
   "outputs": [
    {
     "data": {
      "application/vnd.jupyter.widget-view+json": {
       "model_id": "cc60870262714fd18836d68a5147c35e",
       "version_major": 2,
       "version_minor": 0
      },
      "text/plain": [
       "ImageRecorder(image=Image(value=b''), stream=WidgetStream(max_fps=1, widget=Map(bottom=348836.0, center=[51.55…"
      ]
     },
     "metadata": {},
     "output_type": "display_data"
    }
   ],
   "source": [
    "image_recorder"
   ]
  },
  {
   "cell_type": "code",
   "execution_count": null,
   "id": "7ff1e2fc",
   "metadata": {},
   "outputs": [],
   "source": []
  }
 ],
 "metadata": {
  "kernelspec": {
   "display_name": "Python 3",
   "language": "python",
   "name": "python3"
  },
  "language_info": {
   "codemirror_mode": {
    "name": "ipython",
    "version": 3
   },
   "file_extension": ".py",
   "mimetype": "text/x-python",
   "name": "python",
   "nbconvert_exporter": "python",
   "pygments_lexer": "ipython3",
   "version": "3.8.8"
  }
 },
 "nbformat": 4,
 "nbformat_minor": 5
}
